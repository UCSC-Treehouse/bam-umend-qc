{
 "cells": [
  {
   "cell_type": "markdown",
   "metadata": {},
   "source": [
    "### Count number of non-duplicate, uniquely mapped exonic reads\n",
    "\n",
    "```  \n",
    "Expected from TEST.sorted.bam:\n",
    "uniqMappedNonDupeReadCount = 986\n",
    "estExonicUniqMappedNonDupeReadCount 854.78\n",
    "```"
   ]
  },
  {
   "cell_type": "code",
   "execution_count": 152,
   "metadata": {},
   "outputs": [],
   "source": [
    "import pybedtools"
   ]
  },
  {
   "cell_type": "code",
   "execution_count": 168,
   "metadata": {},
   "outputs": [
    {
     "name": "stdout",
     "output_type": "stream",
     "text": [
      "2642 + 0 in total (QC-passed reads + QC-failed reads)\r\n",
      "644 + 0 secondary\r\n",
      "0 + 0 supplementary\r\n",
      "0 + 0 duplicates\r\n",
      "2618 + 0 mapped (99.09%:N/A)\r\n",
      "1998 + 0 paired in sequencing\r\n",
      "999 + 0 read1\r\n",
      "999 + 0 read2\r\n",
      "1974 + 0 properly paired (98.80%:N/A)\r\n",
      "1974 + 0 with itself and mate mapped\r\n",
      "0 + 0 singletons (0.00%:N/A)\r\n",
      "0 + 0 with mate mapped to a different chr\r\n",
      "0 + 0 with mate mapped to a different chr (mapQ>=5)\r\n"
     ]
    }
   ],
   "source": [
    "!sambamba flagstat TEST.sorted.bam"
   ]
  },
  {
   "cell_type": "code",
   "execution_count": 176,
   "metadata": {},
   "outputs": [
    {
     "name": "stdout",
     "output_type": "stream",
     "text": [
      "finding positions of the duplicate reads in the file...\n",
      "  sorted 987 end pairs\n",
      "     and 0 single ends (among them 0 unmatched pairs)\n",
      "  collecting indices of duplicate reads...   done in 0 ms\n",
      "  found 2 duplicates\n",
      "collected list of positions in 0 min 0 sec\n",
      "removing duplicates...\n",
      "total time elapsed: 0 min 0 sec\n",
      "1972 + 0 in total (QC-passed reads + QC-failed reads)\n",
      "0 + 0 secondary\n",
      "0 + 0 supplementary\n",
      "0 + 0 duplicates\n",
      "1972 + 0 mapped (100.00%:N/A)\n",
      "1972 + 0 paired in sequencing\n",
      "986 + 0 read1\n",
      "986 + 0 read2\n",
      "1972 + 0 properly paired (100.00%:N/A)\n",
      "1972 + 0 with itself and mate mapped\n",
      "0 + 0 singletons (0.00%:N/A)\n",
      "0 + 0 with mate mapped to a different chr\n",
      "0 + 0 with mate mapped to a different chr (mapQ>=5)\n"
     ]
    }
   ],
   "source": [
    "!sambamba markdup --remove-duplicates TEST.sorted.bam data/TEST.dedupe.bam\n",
    "!sambamba view --valid \\\n",
    "    --filter \"not (secondary_alignment or unmapped or failed_quality_control)\" \\\n",
    "    data/TEST.dedupe.bam -f bam > data/TEST.filtered.bam\n",
    "!sambamba flagstat data/TEST.filtered.bam"
   ]
  },
  {
   "cell_type": "code",
   "execution_count": 192,
   "metadata": {},
   "outputs": [],
   "source": [
    "bed = pybedtools.BedTool(\"hg38_GENCODE_v23_basic.bed.gz\")\n",
    "bam = pybedtools.BedTool(\"data/TEST.filtered.bam\")"
   ]
  },
  {
   "cell_type": "code",
   "execution_count": 191,
   "metadata": {},
   "outputs": [
    {
     "name": "stdout",
     "output_type": "stream",
     "text": [
      "Exonic Reads 1850\n"
     ]
    }
   ],
   "source": [
    "exonic_reads = bam.intersect(bed)\n",
    "print(\"Exonic Reads\", exonic_reads.count())"
   ]
  }
 ],
 "metadata": {
  "kernelspec": {
   "display_name": "Python 3",
   "language": "python",
   "name": "python3"
  },
  "language_info": {
   "codemirror_mode": {
    "name": "ipython",
    "version": 3
   },
   "file_extension": ".py",
   "mimetype": "text/x-python",
   "name": "python",
   "nbconvert_exporter": "python",
   "pygments_lexer": "ipython3",
   "version": "3.6.3"
  }
 },
 "nbformat": 4,
 "nbformat_minor": 2
}
